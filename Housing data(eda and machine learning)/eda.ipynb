{
 "cells": [
  {
   "cell_type": "code",
   "execution_count": 1,
   "metadata": {},
   "outputs": [],
   "source": [
    "import sqlite3\n",
    "import pandas as pd \n",
    "import numpy as np \n",
    "from sklearn.preprocessing import LabelEncoder \n",
    "import textblob \n",
    "import matplotlib.pyplot as plt \n",
    "from sklearn.metrics import mean_squared_error"
   ]
  },
  {
   "cell_type": "markdown",
   "metadata": {},
   "source": [
    "# Importing and general exploration of entire dataset"
   ]
  },
  {
   "cell_type": "code",
   "execution_count": 2,
   "metadata": {},
   "outputs": [],
   "source": [
    "#Extract table information from using sqlite3 and place into a dataframe \n",
    "con = sqlite3.connect(\"home_sales.db\")\n",
    "df = pd.read_sql_query(\"SELECT * FROM sales\", con)"
   ]
  },
  {
   "cell_type": "code",
   "execution_count": 3,
   "metadata": {},
   "outputs": [
    {
     "data": {
      "text/html": [
       "<div>\n",
       "<style scoped>\n",
       "    .dataframe tbody tr th:only-of-type {\n",
       "        vertical-align: middle;\n",
       "    }\n",
       "\n",
       "    .dataframe tbody tr th {\n",
       "        vertical-align: top;\n",
       "    }\n",
       "\n",
       "    .dataframe thead th {\n",
       "        text-align: right;\n",
       "    }\n",
       "</style>\n",
       "<table border=\"1\" class=\"dataframe\">\n",
       "  <thead>\n",
       "    <tr style=\"text-align: right;\">\n",
       "      <th></th>\n",
       "      <th>id</th>\n",
       "      <th>date</th>\n",
       "      <th>price</th>\n",
       "      <th>bedrooms</th>\n",
       "      <th>bathrooms</th>\n",
       "      <th>floors</th>\n",
       "      <th>waterfront</th>\n",
       "      <th>view</th>\n",
       "      <th>condition</th>\n",
       "      <th>review_score</th>\n",
       "      <th>basement_size</th>\n",
       "      <th>built</th>\n",
       "      <th>renovation</th>\n",
       "      <th>zipcode</th>\n",
       "      <th>latitude</th>\n",
       "      <th>longitude</th>\n",
       "      <th>living_room_size</th>\n",
       "      <th>lot_size</th>\n",
       "    </tr>\n",
       "  </thead>\n",
       "  <tbody>\n",
       "    <tr>\n",
       "      <th>0</th>\n",
       "      <td>7787980.0</td>\n",
       "      <td>13 October 2014</td>\n",
       "      <td>221900.0</td>\n",
       "      <td>3.0</td>\n",
       "      <td>1.00</td>\n",
       "      <td>1.0</td>\n",
       "      <td>0.0</td>\n",
       "      <td>0.0</td>\n",
       "      <td>fair</td>\n",
       "      <td>10.0</td>\n",
       "      <td>0.0</td>\n",
       "      <td>1955.0</td>\n",
       "      <td>0.0</td>\n",
       "      <td>98178.0</td>\n",
       "      <td>47.5112</td>\n",
       "      <td>-122.257</td>\n",
       "      <td>1340.0</td>\n",
       "      <td>5650.0</td>\n",
       "    </tr>\n",
       "    <tr>\n",
       "      <th>1</th>\n",
       "      <td>6774848.0</td>\n",
       "      <td>09 December 2014</td>\n",
       "      <td>538000.0</td>\n",
       "      <td>3.0</td>\n",
       "      <td>2.25</td>\n",
       "      <td>2.0</td>\n",
       "      <td>0.0</td>\n",
       "      <td>0.0</td>\n",
       "      <td>fair</td>\n",
       "      <td>7.0</td>\n",
       "      <td>400.0</td>\n",
       "      <td>1951.0</td>\n",
       "      <td>1991.0</td>\n",
       "      <td>98125.0</td>\n",
       "      <td>47.7210</td>\n",
       "      <td>-122.319</td>\n",
       "      <td>1690.0</td>\n",
       "      <td>7639.0</td>\n",
       "    </tr>\n",
       "    <tr>\n",
       "      <th>2</th>\n",
       "      <td>6999329.0</td>\n",
       "      <td>25 February 2015</td>\n",
       "      <td>180000.0</td>\n",
       "      <td>2.0</td>\n",
       "      <td>1.00</td>\n",
       "      <td>1.0</td>\n",
       "      <td>0.0</td>\n",
       "      <td>0.0</td>\n",
       "      <td>fair</td>\n",
       "      <td>8.0</td>\n",
       "      <td>0.0</td>\n",
       "      <td>1933.0</td>\n",
       "      <td>0.0</td>\n",
       "      <td>98028.0</td>\n",
       "      <td>47.7379</td>\n",
       "      <td>-122.233</td>\n",
       "      <td>2720.0</td>\n",
       "      <td>8062.0</td>\n",
       "    </tr>\n",
       "    <tr>\n",
       "      <th>3</th>\n",
       "      <td>7773052.0</td>\n",
       "      <td>09 December 2014</td>\n",
       "      <td>604000.0</td>\n",
       "      <td>4.0</td>\n",
       "      <td>3.00</td>\n",
       "      <td>1.0</td>\n",
       "      <td>0.0</td>\n",
       "      <td>0.0</td>\n",
       "      <td>excellent</td>\n",
       "      <td>6.0</td>\n",
       "      <td>910.0</td>\n",
       "      <td>1965.0</td>\n",
       "      <td>0.0</td>\n",
       "      <td>98136.0</td>\n",
       "      <td>47.5208</td>\n",
       "      <td>-122.393</td>\n",
       "      <td>1360.0</td>\n",
       "      <td>5000.0</td>\n",
       "    </tr>\n",
       "    <tr>\n",
       "      <th>4</th>\n",
       "      <td>7760818.0</td>\n",
       "      <td>18 February 2015</td>\n",
       "      <td>510000.0</td>\n",
       "      <td>3.0</td>\n",
       "      <td>2.00</td>\n",
       "      <td>1.0</td>\n",
       "      <td>0.0</td>\n",
       "      <td>0.0</td>\n",
       "      <td>fair</td>\n",
       "      <td>6.0</td>\n",
       "      <td>0.0</td>\n",
       "      <td>1987.0</td>\n",
       "      <td>0.0</td>\n",
       "      <td>98074.0</td>\n",
       "      <td>47.6168</td>\n",
       "      <td>-122.045</td>\n",
       "      <td>1800.0</td>\n",
       "      <td>7503.0</td>\n",
       "    </tr>\n",
       "  </tbody>\n",
       "</table>\n",
       "</div>"
      ],
      "text/plain": [
       "          id              date     price  bedrooms  bathrooms  floors  \\\n",
       "0  7787980.0   13 October 2014  221900.0       3.0       1.00     1.0   \n",
       "1  6774848.0  09 December 2014  538000.0       3.0       2.25     2.0   \n",
       "2  6999329.0  25 February 2015  180000.0       2.0       1.00     1.0   \n",
       "3  7773052.0  09 December 2014  604000.0       4.0       3.00     1.0   \n",
       "4  7760818.0  18 February 2015  510000.0       3.0       2.00     1.0   \n",
       "\n",
       "   waterfront  view  condition  review_score  basement_size   built  \\\n",
       "0         0.0   0.0       fair          10.0            0.0  1955.0   \n",
       "1         0.0   0.0       fair           7.0          400.0  1951.0   \n",
       "2         0.0   0.0       fair           8.0            0.0  1933.0   \n",
       "3         0.0   0.0  excellent           6.0          910.0  1965.0   \n",
       "4         0.0   0.0       fair           6.0            0.0  1987.0   \n",
       "\n",
       "   renovation  zipcode  latitude  longitude  living_room_size  lot_size  \n",
       "0         0.0  98178.0   47.5112   -122.257            1340.0    5650.0  \n",
       "1      1991.0  98125.0   47.7210   -122.319            1690.0    7639.0  \n",
       "2         0.0  98028.0   47.7379   -122.233            2720.0    8062.0  \n",
       "3         0.0  98136.0   47.5208   -122.393            1360.0    5000.0  \n",
       "4         0.0  98074.0   47.6168   -122.045            1800.0    7503.0  "
      ]
     },
     "execution_count": 3,
     "metadata": {},
     "output_type": "execute_result"
    }
   ],
   "source": [
    "#Look at the first few rows of the df to get a sense of what and how the information \n",
    "df.head()"
   ]
  },
  {
   "cell_type": "markdown",
   "metadata": {},
   "source": [
    "From the first few rows of the dataframe it seems that majority of the columns holds numerical values except the 'date' and 'condtion' column.\n",
    "\n",
    "### Lets move to look at the number of rows and columns in this dataset as well as the data-types of each columns"
   ]
  },
  {
   "cell_type": "code",
   "execution_count": 4,
   "metadata": {},
   "outputs": [
    {
     "name": "stdout",
     "output_type": "stream",
     "text": [
      "<class 'pandas.core.frame.DataFrame'>\n",
      "RangeIndex: 23154 entries, 0 to 23153\n",
      "Data columns (total 18 columns):\n",
      " #   Column            Non-Null Count  Dtype  \n",
      "---  ------            --------------  -----  \n",
      " 0   id                21871 non-null  float64\n",
      " 1   date              21925 non-null  object \n",
      " 2   price             21896 non-null  float64\n",
      " 3   bedrooms          21905 non-null  float64\n",
      " 4   bathrooms         21938 non-null  float64\n",
      " 5   floors            21862 non-null  float64\n",
      " 6   waterfront        21871 non-null  float64\n",
      " 7   view              21908 non-null  float64\n",
      " 8   condition         21890 non-null  object \n",
      " 9   review_score      21851 non-null  float64\n",
      " 10  basement_size     21929 non-null  float64\n",
      " 11  built             21853 non-null  float64\n",
      " 12  renovation        21897 non-null  float64\n",
      " 13  zipcode           21884 non-null  float64\n",
      " 14  latitude          21903 non-null  float64\n",
      " 15  longitude         21883 non-null  float64\n",
      " 16  living_room_size  21912 non-null  float64\n",
      " 17  lot_size          21932 non-null  float64\n",
      "dtypes: float64(16), object(2)\n",
      "memory usage: 3.2+ MB\n"
     ]
    }
   ],
   "source": [
    "df.info()"
   ]
  },
  {
   "cell_type": "markdown",
   "metadata": {},
   "source": [
    "From the results it can be seen that there are a total of 23154 rows and 18 columns. There are two objects datatype which are the columns 'date' and 'condition' which will be looked into further down the EDA\n",
    "\n",
    "It was also seen that all columns have missing or null values since all the column's rows are lesser than the total number of rows. \n",
    "\n",
    "### Next lets have a look at how many null values are there in each columns"
   ]
  },
  {
   "cell_type": "code",
   "execution_count": 5,
   "metadata": {},
   "outputs": [
    {
     "data": {
      "text/plain": [
       "id                  1283\n",
       "date                1229\n",
       "price               1258\n",
       "bedrooms            1249\n",
       "bathrooms           1216\n",
       "floors              1292\n",
       "waterfront          1283\n",
       "view                1246\n",
       "condition           1264\n",
       "review_score        1303\n",
       "basement_size       1225\n",
       "built               1301\n",
       "renovation          1257\n",
       "zipcode             1270\n",
       "latitude            1251\n",
       "longitude           1271\n",
       "living_room_size    1242\n",
       "lot_size            1222\n",
       "dtype: int64"
      ]
     },
     "execution_count": 5,
     "metadata": {},
     "output_type": "execute_result"
    }
   ],
   "source": [
    "#check to see how many null values are there in each column\n",
    "df.isnull().sum()"
   ]
  },
  {
   "cell_type": "markdown",
   "metadata": {},
   "source": [
    "From this information it looks like there are quite a number of null value in all the columns\n",
    "\n",
    "### Now nets see how much rows were lost when all the null value are removed from the dataset "
   ]
  },
  {
   "cell_type": "code",
   "execution_count": 6,
   "metadata": {},
   "outputs": [
    {
     "name": "stdout",
     "output_type": "stream",
     "text": [
      "The pecentage loss was  15 %\n"
     ]
    }
   ],
   "source": [
    "#filtering the dataframe to contain rows that are with values only\n",
    "df_new = df.drop('id',axis=1)\n",
    "df_new = df.dropna()\n",
    "#reset index after droping na \n",
    "df_new.reset_index(drop=True,inplace=True)\n",
    "#check how much rows we lost from takeing out all of the rows with null values\n",
    "percentage_loss = round((len(df)-len(df_new))/len(df) *100)\n",
    "print('The pecentage loss was ',percentage_loss,'%')\n"
   ]
  },
  {
   "cell_type": "markdown",
   "metadata": {},
   "source": [
    "15% seems quite alright as I do not want to risk filling the na values with other values like mean since each house is unique and it is not fair to actually put the mean value for example the number of bedrooms to a house with unknow bedroom."
   ]
  },
  {
   "cell_type": "markdown",
   "metadata": {},
   "source": [
    "### Next we will see how the float data types mean,std,max and min values to further inverstigate if there are any unusual or werid value"
   ]
  },
  {
   "cell_type": "code",
   "execution_count": 7,
   "metadata": {},
   "outputs": [
    {
     "data": {
      "text/html": [
       "<div>\n",
       "<style scoped>\n",
       "    .dataframe tbody tr th:only-of-type {\n",
       "        vertical-align: middle;\n",
       "    }\n",
       "\n",
       "    .dataframe tbody tr th {\n",
       "        vertical-align: top;\n",
       "    }\n",
       "\n",
       "    .dataframe thead th {\n",
       "        text-align: right;\n",
       "    }\n",
       "</style>\n",
       "<table border=\"1\" class=\"dataframe\">\n",
       "  <thead>\n",
       "    <tr style=\"text-align: right;\">\n",
       "      <th></th>\n",
       "      <th>id</th>\n",
       "      <th>price</th>\n",
       "      <th>bedrooms</th>\n",
       "      <th>bathrooms</th>\n",
       "      <th>floors</th>\n",
       "      <th>waterfront</th>\n",
       "      <th>view</th>\n",
       "      <th>review_score</th>\n",
       "      <th>basement_size</th>\n",
       "      <th>built</th>\n",
       "      <th>renovation</th>\n",
       "      <th>zipcode</th>\n",
       "      <th>latitude</th>\n",
       "      <th>longitude</th>\n",
       "      <th>living_room_size</th>\n",
       "      <th>lot_size</th>\n",
       "    </tr>\n",
       "  </thead>\n",
       "  <tbody>\n",
       "    <tr>\n",
       "      <th>count</th>\n",
       "      <td>1.968800e+04</td>\n",
       "      <td>1.968800e+04</td>\n",
       "      <td>19688.000000</td>\n",
       "      <td>19688.000000</td>\n",
       "      <td>19688.000000</td>\n",
       "      <td>19688.000000</td>\n",
       "      <td>19688.000000</td>\n",
       "      <td>19688.000000</td>\n",
       "      <td>19688.000000</td>\n",
       "      <td>19688.000000</td>\n",
       "      <td>19688.000000</td>\n",
       "      <td>19688.000000</td>\n",
       "      <td>19688.000000</td>\n",
       "      <td>19688.000000</td>\n",
       "      <td>19688.000000</td>\n",
       "      <td>19688.000000</td>\n",
       "    </tr>\n",
       "    <tr>\n",
       "      <th>mean</th>\n",
       "      <td>7.394051e+06</td>\n",
       "      <td>5.434626e+05</td>\n",
       "      <td>3.371495</td>\n",
       "      <td>2.115553</td>\n",
       "      <td>1.495175</td>\n",
       "      <td>0.008178</td>\n",
       "      <td>0.235575</td>\n",
       "      <td>7.657964</td>\n",
       "      <td>292.394453</td>\n",
       "      <td>1970.972064</td>\n",
       "      <td>86.568417</td>\n",
       "      <td>98078.000762</td>\n",
       "      <td>47.561199</td>\n",
       "      <td>-122.213786</td>\n",
       "      <td>1988.706217</td>\n",
       "      <td>12846.990807</td>\n",
       "    </tr>\n",
       "    <tr>\n",
       "      <th>std</th>\n",
       "      <td>3.895133e+05</td>\n",
       "      <td>3.733997e+05</td>\n",
       "      <td>0.904515</td>\n",
       "      <td>0.771053</td>\n",
       "      <td>0.540391</td>\n",
       "      <td>0.090062</td>\n",
       "      <td>0.769438</td>\n",
       "      <td>1.177340</td>\n",
       "      <td>444.848677</td>\n",
       "      <td>29.378149</td>\n",
       "      <td>406.561830</td>\n",
       "      <td>53.452090</td>\n",
       "      <td>0.138121</td>\n",
       "      <td>0.140946</td>\n",
       "      <td>686.733246</td>\n",
       "      <td>27567.625277</td>\n",
       "    </tr>\n",
       "    <tr>\n",
       "      <th>min</th>\n",
       "      <td>6.721618e+06</td>\n",
       "      <td>7.500000e+04</td>\n",
       "      <td>0.000000</td>\n",
       "      <td>0.000000</td>\n",
       "      <td>1.000000</td>\n",
       "      <td>0.000000</td>\n",
       "      <td>0.000000</td>\n",
       "      <td>1.000000</td>\n",
       "      <td>0.000000</td>\n",
       "      <td>1900.000000</td>\n",
       "      <td>0.000000</td>\n",
       "      <td>98001.000000</td>\n",
       "      <td>47.155900</td>\n",
       "      <td>-122.515000</td>\n",
       "      <td>399.000000</td>\n",
       "      <td>651.000000</td>\n",
       "    </tr>\n",
       "    <tr>\n",
       "      <th>25%</th>\n",
       "      <td>7.058383e+06</td>\n",
       "      <td>3.230000e+05</td>\n",
       "      <td>3.000000</td>\n",
       "      <td>1.750000</td>\n",
       "      <td>1.000000</td>\n",
       "      <td>0.000000</td>\n",
       "      <td>0.000000</td>\n",
       "      <td>7.000000</td>\n",
       "      <td>0.000000</td>\n",
       "      <td>1951.000000</td>\n",
       "      <td>0.000000</td>\n",
       "      <td>98033.000000</td>\n",
       "      <td>47.473000</td>\n",
       "      <td>-122.328000</td>\n",
       "      <td>1490.000000</td>\n",
       "      <td>5100.000000</td>\n",
       "    </tr>\n",
       "    <tr>\n",
       "      <th>50%</th>\n",
       "      <td>7.389222e+06</td>\n",
       "      <td>4.520000e+05</td>\n",
       "      <td>3.000000</td>\n",
       "      <td>2.250000</td>\n",
       "      <td>1.500000</td>\n",
       "      <td>0.000000</td>\n",
       "      <td>0.000000</td>\n",
       "      <td>7.000000</td>\n",
       "      <td>0.000000</td>\n",
       "      <td>1975.000000</td>\n",
       "      <td>0.000000</td>\n",
       "      <td>98065.000000</td>\n",
       "      <td>47.573050</td>\n",
       "      <td>-122.231000</td>\n",
       "      <td>1840.000000</td>\n",
       "      <td>7620.000000</td>\n",
       "    </tr>\n",
       "    <tr>\n",
       "      <th>75%</th>\n",
       "      <td>7.729408e+06</td>\n",
       "      <td>6.500000e+05</td>\n",
       "      <td>4.000000</td>\n",
       "      <td>2.500000</td>\n",
       "      <td>2.000000</td>\n",
       "      <td>0.000000</td>\n",
       "      <td>0.000000</td>\n",
       "      <td>8.000000</td>\n",
       "      <td>560.000000</td>\n",
       "      <td>1997.000000</td>\n",
       "      <td>0.000000</td>\n",
       "      <td>98118.000000</td>\n",
       "      <td>47.678600</td>\n",
       "      <td>-122.125000</td>\n",
       "      <td>2370.000000</td>\n",
       "      <td>10089.500000</td>\n",
       "    </tr>\n",
       "    <tr>\n",
       "      <th>max</th>\n",
       "      <td>8.071385e+06</td>\n",
       "      <td>7.700000e+06</td>\n",
       "      <td>11.000000</td>\n",
       "      <td>8.000000</td>\n",
       "      <td>3.500000</td>\n",
       "      <td>1.000000</td>\n",
       "      <td>4.000000</td>\n",
       "      <td>13.000000</td>\n",
       "      <td>4820.000000</td>\n",
       "      <td>2015.000000</td>\n",
       "      <td>2015.000000</td>\n",
       "      <td>98199.000000</td>\n",
       "      <td>47.777600</td>\n",
       "      <td>-121.315000</td>\n",
       "      <td>6210.000000</td>\n",
       "      <td>871200.000000</td>\n",
       "    </tr>\n",
       "  </tbody>\n",
       "</table>\n",
       "</div>"
      ],
      "text/plain": [
       "                 id         price      bedrooms     bathrooms        floors  \\\n",
       "count  1.968800e+04  1.968800e+04  19688.000000  19688.000000  19688.000000   \n",
       "mean   7.394051e+06  5.434626e+05      3.371495      2.115553      1.495175   \n",
       "std    3.895133e+05  3.733997e+05      0.904515      0.771053      0.540391   \n",
       "min    6.721618e+06  7.500000e+04      0.000000      0.000000      1.000000   \n",
       "25%    7.058383e+06  3.230000e+05      3.000000      1.750000      1.000000   \n",
       "50%    7.389222e+06  4.520000e+05      3.000000      2.250000      1.500000   \n",
       "75%    7.729408e+06  6.500000e+05      4.000000      2.500000      2.000000   \n",
       "max    8.071385e+06  7.700000e+06     11.000000      8.000000      3.500000   \n",
       "\n",
       "         waterfront          view  review_score  basement_size         built  \\\n",
       "count  19688.000000  19688.000000  19688.000000   19688.000000  19688.000000   \n",
       "mean       0.008178      0.235575      7.657964     292.394453   1970.972064   \n",
       "std        0.090062      0.769438      1.177340     444.848677     29.378149   \n",
       "min        0.000000      0.000000      1.000000       0.000000   1900.000000   \n",
       "25%        0.000000      0.000000      7.000000       0.000000   1951.000000   \n",
       "50%        0.000000      0.000000      7.000000       0.000000   1975.000000   \n",
       "75%        0.000000      0.000000      8.000000     560.000000   1997.000000   \n",
       "max        1.000000      4.000000     13.000000    4820.000000   2015.000000   \n",
       "\n",
       "         renovation       zipcode      latitude     longitude  \\\n",
       "count  19688.000000  19688.000000  19688.000000  19688.000000   \n",
       "mean      86.568417  98078.000762     47.561199   -122.213786   \n",
       "std      406.561830     53.452090      0.138121      0.140946   \n",
       "min        0.000000  98001.000000     47.155900   -122.515000   \n",
       "25%        0.000000  98033.000000     47.473000   -122.328000   \n",
       "50%        0.000000  98065.000000     47.573050   -122.231000   \n",
       "75%        0.000000  98118.000000     47.678600   -122.125000   \n",
       "max     2015.000000  98199.000000     47.777600   -121.315000   \n",
       "\n",
       "       living_room_size       lot_size  \n",
       "count      19688.000000   19688.000000  \n",
       "mean        1988.706217   12846.990807  \n",
       "std          686.733246   27567.625277  \n",
       "min          399.000000     651.000000  \n",
       "25%         1490.000000    5100.000000  \n",
       "50%         1840.000000    7620.000000  \n",
       "75%         2370.000000   10089.500000  \n",
       "max         6210.000000  871200.000000  "
      ]
     },
     "execution_count": 7,
     "metadata": {},
     "output_type": "execute_result"
    }
   ],
   "source": [
    "df_new.describe()"
   ]
  },
  {
   "cell_type": "markdown",
   "metadata": {},
   "source": [
    "From the results it can be seen that most of the  min and max and different percentile like 25%,50%,75% are seemly okay except number of bathrooms where the 25% consist of 1.75 number of bathrooms? similarly 50% and 75% with 2.25 and 2.5 number of bathroom?\n",
    "\n",
    "This seems werid as it is expected to be whole number since it should represent the number of bathrooms in a house have and 2.25 or 1.75 does not make sense to be a value for the number of bathroom in a given house."
   ]
  },
  {
   "cell_type": "markdown",
   "metadata": {},
   "source": [
    "# Exploring and cleaning up 'bathrooms' column"
   ]
  },
  {
   "cell_type": "code",
   "execution_count": 8,
   "metadata": {},
   "outputs": [
    {
     "data": {
      "text/plain": [
       "array([1.  , 2.25, 3.  , 2.  , 4.5 , 1.5 , 2.5 , 1.75, 2.75, 3.25, 4.  ,\n",
       "       3.5 , 0.75, 4.75, 5.  , 4.25, 3.75, 0.  , 5.25, 6.  , 1.25, 5.5 ,\n",
       "       6.75, 5.75, 8.  , 7.5 , 7.75, 0.5 , 6.25, 6.5 ])"
      ]
     },
     "execution_count": 8,
     "metadata": {},
     "output_type": "execute_result"
    }
   ],
   "source": [
    "# looking deeper into bathrooms section by first seeing the different unique values in the bathrooms columns\n",
    "\n",
    "df_new['bathrooms'].unique()"
   ]
  },
  {
   "cell_type": "markdown",
   "metadata": {},
   "source": [
    "From the results it can be seen that there are decimal numbers all around like 0.75,5.5,4.25...etc hence cleaning will have to be done for this column since the values does not make sense"
   ]
  },
  {
   "cell_type": "code",
   "execution_count": 9,
   "metadata": {},
   "outputs": [
    {
     "name": "stderr",
     "output_type": "stream",
     "text": [
      "C:\\Users\\User\\anaconda3\\lib\\site-packages\\ipykernel_launcher.py:3: SettingWithCopyWarning: \n",
      "A value is trying to be set on a copy of a slice from a DataFrame.\n",
      "Try using .loc[row_indexer,col_indexer] = value instead\n",
      "\n",
      "See the caveats in the documentation: https://pandas.pydata.org/pandas-docs/stable/user_guide/indexing.html#returning-a-view-versus-a-copy\n",
      "  This is separate from the ipykernel package so we can avoid doing imports until\n"
     ]
    },
    {
     "data": {
      "text/plain": [
       "array([1, 2, 3, 4, 5, 0, 6, 7, 8], dtype=int64)"
      ]
     },
     "execution_count": 9,
     "metadata": {},
     "output_type": "execute_result"
    }
   ],
   "source": [
    "# Therefore rounding of all the values to a whole number will be done for the column of bathrooms\n",
    "\n",
    "df_new['bathrooms'] = df_new.bathrooms.apply(lambda x : round(x))\n",
    "\n",
    "#dobule check the new bathroom column value to ensure that it only contains whole number \n",
    "\n",
    "df_new['bathrooms'].unique()\n"
   ]
  },
  {
   "cell_type": "markdown",
   "metadata": {},
   "source": [
    "Results showed that the float value now changed to int and it no longer consist of the decimal values."
   ]
  },
  {
   "cell_type": "markdown",
   "metadata": {},
   "source": [
    "# Exploring and cleaning up 'date' column and coverting to datetime"
   ]
  },
  {
   "cell_type": "code",
   "execution_count": 10,
   "metadata": {},
   "outputs": [
    {
     "data": {
      "text/plain": [
       "array(['13 October 2014', '09 December 2014', '25 February 2015',\n",
       "       '18 February 2015', '12 May 2014', '27 June 2014',\n",
       "       '15 January 2015', '15 April 2015', '12 March 2015',\n",
       "       '03 April 2015', '27 May 2014', '07 October 2014',\n",
       "       '24 January 2015', '31 July 2014', '29 May 2014',\n",
       "       '05 December 2014', '24 April 2015', '14 May 2014', '03 July 2014',\n",
       "       '16 May 2014', '20 November 2014', '03 November 2014',\n",
       "       '26 June 2014', '01 December 2014', '24 June 2014',\n",
       "       '02 March 2015', '10 November 2014', '03 December 2014',\n",
       "       '13 June 2014', '28 May 2014', '30 December 2014',\n",
       "       '13 February 2015', '20 June 2014', '11 Auust 2014',\n",
       "       '28 October 2014', '29 July 2014', '18 July 2014', '25 March 2015',\n",
       "       '28 April 2015', '11 March 2015', '16 September 2014',\n",
       "       '17 February 2015', '31 December 2014', '05 February 2015',\n",
       "       '03 March 2015', '19 August 2014', '07 April 2015',\n",
       "       '27 August 2014', '23 February 2015', '10 December 2014',\n",
       "       '28 August 2014', '03 June 2014', '09 September 2014',\n",
       "       '09 October 2014', '25 August 2014', '12 September 2014',\n",
       "       '05 January 2015', '10 June 2014', '10 July 2014', '16 March 2015',\n",
       "       '05 November 2014', '20 April 2015', '09 June 2014',\n",
       "       '22 December 2014', '28 January 2015', '02 June 2014',\n",
       "       '14 November 2014', '19 May 2014', '04 September 2014',\n",
       "       '25 July 2014', '08 September 2014', '30 March 2015',\n",
       "       '11 June 2014', '12 December 2014', '24 September 2014',\n",
       "       '02 April 2015', '23 May 2014', '23 July 2014', '05 March 2015',\n",
       "       '04 March 2015', '24 November 2014', '21 November 2014',\n",
       "       '08 January 2015', '11 May 2015', '02 January 2015',\n",
       "       '19 November 2014', '06 April 2015', '04 November 2014',\n",
       "       '18 June 2014', '17 July 2014', '12 June 2014', '26 January 2015',\n",
       "       '13 August 2014', '05 August 2014', '07 July 2014', '07 May 2014',\n",
       "       '08 July 2014', '08 May 2015', '27 February 2015', '25 June 2014',\n",
       "       '06 August 2014', '30 October 2014', '20 August 2014',\n",
       "       '09 April 2015', '31 March 2015', '01 April 2015', '28 July 2014',\n",
       "       '07 August 2014', '13 November 2014', '03 October 2014',\n",
       "       '09 March 2015', '12 August 2014', '08 December 2014',\n",
       "       '19 February 2015', '24 March 2015', '05 June 2014', '02 May 2014',\n",
       "       '29 September 2014', '10 February 2015', '09 July 2014',\n",
       "       '17 November 2014', '07 January 2015', '14 April 2015',\n",
       "       '05 September 2014', '05 May 2014', '18 April 2015',\n",
       "       '18 August 2014', '15 May 2014', '11 November 2014',\n",
       "       '13 January 2015', '12 November 2014', '16 July 2014',\n",
       "       '04 August 2014', '19 September 2014', '22 April 2015',\n",
       "       '14 January 2015', '21 February 2015', '23 October 2014',\n",
       "       '22 August 2014', '18 September 2014', '03 September 2014',\n",
       "       '04 June 2014', '16 June 2014', '02 September 2014',\n",
       "       '20 March 2015', '01 July 2014', '01 October 2014',\n",
       "       '27 January 2015', '27 April 2015', '26 August 2014',\n",
       "       '12 February 2015', '14 March 2015', '23 September 2014',\n",
       "       '13 May 2014', '21 April 2015', '20 October 2014',\n",
       "       '11 February 2015', '29 August 2014', '02 December 2014',\n",
       "       '24 October 2014', '27 October 2014', '14 August 2014',\n",
       "       '04 May 2015', '01 May 2015', '17 October 2014',\n",
       "       '25 September 2014', '05 May 2015', '13 May 2015', '30 June 2014',\n",
       "       '10 April 2015', '09 February 2015', '02 July 2014',\n",
       "       '24 Feburary 2015', '22 October 2014', '02 October 2014',\n",
       "       '11 August 2014', '28 Feburary 2015', '22 November 2014',\n",
       "       '21 July 2014', '02 February 2015', '16 April 2015',\n",
       "       '08 April 2015', '22 July 2014', '06 November 2014',\n",
       "       '29 December 2014', '21 October 2014', '22 September 2014',\n",
       "       '06 October 2014', '17 September 2014', '30 January 2015',\n",
       "       '26 March 2015', '23 April 2015', '04 December 2014',\n",
       "       '23 December 2014', '20 May 2014', '29 April 2015',\n",
       "       '21 January 2015', '30 April 2015', '23 June 2014', '19 June 2014',\n",
       "       '06 March 2015', '24 February 2015', '17 April 2015',\n",
       "       '11 September 2014', '30 July 2014', '06 May 2014', '12 May 2015',\n",
       "       '21 August 2014', '15 July 2014', '19 March 2015', '02 May 2015',\n",
       "       '22 February 2015', '14 October 2014', '26 November 2014',\n",
       "       '15 October 2014', '06 January 2015', '11 July 2014',\n",
       "       '01 September 2014', '16 December 2014', '14 June 2014',\n",
       "       '21 May 2014', '08 May 2014', '29 October 2014', '07 May 2015',\n",
       "       '06 September 2014', '08 October 2014', '18 Feburary 2015',\n",
       "       '10 March 2015', '18 December 2014', '17 December 2014',\n",
       "       '11 December 2014', '30 September 2014', '06 February 2015',\n",
       "       '06 May 2015', '08 August 2014', '22 May 2014', '22 June 2014',\n",
       "       '15 August 2014', '18 November 2014', '02 August 2014',\n",
       "       '16 October 2014', '12 July 2014', '13 April 2015',\n",
       "       '10 September 2014', '09 May 2014', '15 December 2014',\n",
       "       '07 November 2014', '23 January 2015', '14 July 2014',\n",
       "       '26 September 2014', '06 June 2014', '25 November 2014',\n",
       "       '10 October 2014', '13 March 2015', '26 December 2014',\n",
       "       '30 May 2014', '19 December 2014', '20 January 2015',\n",
       "       '18 March 2015', '14 May 2015', '12 January 2015', '23 March 2015',\n",
       "       '24 July 2014', '25 April 2015', '25 Feburary 2015',\n",
       "       '17 June 2014', '22 January 2015', '26 February 2015',\n",
       "       '17 March 2015', '15 September 2014', '17 May 2014',\n",
       "       '02 Feburary 2015', '26 April 2015', '27 My 2014',\n",
       "       '20 February 2015', '09 January 2015', '06 My 2014',\n",
       "       '06 Feburary 2015', '04 February 2015', '17 Feburary 2015',\n",
       "       '07 Novemer 2014', '19 April 2015', '16 January 2015',\n",
       "       '11 May 2014', '24 May 2014', '14 February 2015', '12 ugust 2014',\n",
       "       '01 August 2014', '01 June 2014', '26 Augut 2014',\n",
       "       '31 October 2014', '27 March 2015', '21 June 2014',\n",
       "       '18 October 2014', '04 Feburary 2015', '28 My 2014',\n",
       "       '20 December 2014', '03 February 2015', '29 January 2015',\n",
       "       '26 July 2014', '23 Feburary 2015', '19 July 2014', '28 June 2014',\n",
       "       '19 January 2015', '03 Feburary 2015', '27 arch 2015',\n",
       "       '26 May 2014', '03 May 2015', '01 Juy 2014', '24 December 2014',\n",
       "       '16 August 2014', '27 September 2014', '06 July 2014',\n",
       "       '14 December 2014', '11 Feburary 2015', '05 October 2014',\n",
       "       '12 April 2015', '20 Feburary 2015', '15 November 2014',\n",
       "       '28 February 2015', '08 November 2014', '01 November 2014',\n",
       "       '25 May 2014', '30 Sptember 2014', '10 Feburary 2015',\n",
       "       '19 Decembr 2014', '07 December 2014', '07 September 2014',\n",
       "       '31 ecember 2014', '29 March 2015', '19 October 2014',\n",
       "       '11 Jul 2014', '18 Jne 2014', '17 Jne 2014', '13 Feburary 2015',\n",
       "       '29 June 2014', '09 Febuary 2015', '04 May 2014', '04 April 2015',\n",
       "       '16 November 2014', '16 February 2015', '31 May 2014',\n",
       "       '04 October 2014', '18 May 2014', '09 November 2014',\n",
       "       '08 Januar 2015', '15 March 2015', '05 April 2015', '23 pril 2015',\n",
       "       '11 ay 2015', '20 July 2014', '10 May 2014', '07 February 2015',\n",
       "       '08 June 2014', '15 Apri 2015', '12 Setember 2014',\n",
       "       '19 Noember 2014', '13 December 2014', '15 Dcember 2014',\n",
       "       '09 August 2014', '08 Juy 2014', '21 March 2015', '01 uly 2014',\n",
       "       '09 Feburary 2015', '26 Dcember 2014', '15 May 2015',\n",
       "       '05 Augus 2014', '27 Feburary 2015', '01 Deceber 2014',\n",
       "       '02 Decmber 2014', '17 August 2014', '15 June 2014',\n",
       "       '04 Novemer 2014', '22 Dcember 2014', '04 July 2014',\n",
       "       '13 September 2014', '30 une 2014', '07 March 2015',\n",
       "       '12 Feburary 2015', '10 August 2014', '08 Augut 2014',\n",
       "       '22 Jul 2014', '06 December 2014', '09 May 2015', '21 Octobe 2014',\n",
       "       '11 ovember 2014', '03 August 2014', '19 Feburary 2015',\n",
       "       '28 September 2014', '08 Augus 2014', '02 Septemer 2014',\n",
       "       '11 April 2015', '29 Jul 2014', '03 May 2014', '13 July 2014',\n",
       "       '07 Novembr 2014', '05 July 2014', '25 October 2014',\n",
       "       '28 November 2014', '28 March 2015', '07 Jnuary 2015',\n",
       "       '20 September 2014', '02 November 2014', '25 ebruary 2015',\n",
       "       '19 Novemer 2014', '20 ay 2014', '18 ecember 2014',\n",
       "       '05 Feburary 2015', '12 Ma 2014', '22 Janury 2015', '18 une 2014',\n",
       "       '21 September 2014', '26 Jue 2014', '30 Jauary 2015',\n",
       "       '25 eptember 2014', '14 Jly 2014', '28 Ma 2014', '08 ay 2014',\n",
       "       '26 Feburary 2015', '10 January 2015', '24 Apri 2015',\n",
       "       '01 March 2015', '13 Novembr 2014', '31 August 2014',\n",
       "       '25 January 2015', '26 October 2014', '29 November 2014',\n",
       "       '07 June 2014', '23 Sepember 2014', '24 May 2015',\n",
       "       '14 Feburary 2015', '26 Feruary 2015', '23 November 2014',\n",
       "       '12 October 2014', '23 August 2014', '13 Marh 2015',\n",
       "       '18 ovember 2014', '17 Jun 2014', '10 May 2015',\n",
       "       '27 December 2014', '18 Marc 2015', '03 ovember 2014',\n",
       "       '14 September 2014', '13 Novemer 2014', '08 March 2015',\n",
       "       '12 Jun 2014', '22 Feburary 2015', '29 Jauary 2015',\n",
       "       '01 ugust 2014', '30 August 2014', '03 Aprl 2015',\n",
       "       '16 Janury 2015', '25 ugust 2014', '27 May 2015', '20 Ma 2014',\n",
       "       '22 March 2015', '15 February 2015', '12 Augst 2014',\n",
       "       '11 October 2014', '23 My 2014', '14 Mrch 2015', '03 Jue 2014',\n",
       "       '07 Apil 2015', '01 February 2015', '23 ay 2014', '11 Jun 2014',\n",
       "       '30 November 2014', '24 August 2014', '21 December 2014',\n",
       "       '22 ay 2014', '24 pril 2015', '05 ay 2014', '27 July 2014',\n",
       "       '13 Ma 2014', '28 Aprl 2015', '02 Septeber 2014', '02 Octobr 2014'],\n",
       "      dtype=object)"
      ]
     },
     "execution_count": 10,
     "metadata": {},
     "output_type": "execute_result"
    }
   ],
   "source": [
    "#Next we will move on to converting the date to a datetime series instead of it just as an object datatype\n",
    "#But first lets explore the unique values in 'date' column \n",
    "df_new.date.unique()"
   ]
  },
  {
   "cell_type": "markdown",
   "metadata": {},
   "source": [
    "Looking the the resulting unique strings values it can be seen that there are many spelling errors like 'arch','my','uly','dcember','octber' etc...\n",
    "These spelling mistake will make it impossible to convert it to date time series since there are many months are spelt wrongly\n",
    "\n",
    "### Before moving on to clean the data lets see how many months are spelled wrongly but we need to remove all of the digit and whitespaces and add it to a new column called 'month'"
   ]
  },
  {
   "cell_type": "code",
   "execution_count": 11,
   "metadata": {},
   "outputs": [
    {
     "name": "stdout",
     "output_type": "stream",
     "text": [
      "['October' 'December' 'February' 'May' 'June' 'January' 'April' 'March'\n",
      " 'July' 'November' 'Auust' 'September' 'August' 'Feburary' 'My' 'Novemer'\n",
      " 'ugust' 'Augut' 'arch' 'Juy' 'Sptember' 'Decembr' 'ecember' 'Jul' 'Jne'\n",
      " 'Febuary' 'Januar' 'pril' 'ay' 'Apri' 'Setember' 'Noember' 'Dcember'\n",
      " 'uly' 'Augus' 'Deceber' 'Decmber' 'une' 'Octobe' 'ovember' 'Septemer'\n",
      " 'Novembr' 'Jnuary' 'ebruary' 'Ma' 'Janury' 'Jue' 'Jauary' 'eptember'\n",
      " 'Jly' 'Sepember' 'Feruary' 'Marh' 'Jun' 'Marc' 'Aprl' 'Augst' 'Mrch'\n",
      " 'Apil' 'Septeber' 'Octobr']\n"
     ]
    },
    {
     "name": "stderr",
     "output_type": "stream",
     "text": [
      "C:\\Users\\User\\anaconda3\\lib\\site-packages\\ipykernel_launcher.py:2: SettingWithCopyWarning: \n",
      "A value is trying to be set on a copy of a slice from a DataFrame.\n",
      "Try using .loc[row_indexer,col_indexer] = value instead\n",
      "\n",
      "See the caveats in the documentation: https://pandas.pydata.org/pandas-docs/stable/user_guide/indexing.html#returning-a-view-versus-a-copy\n",
      "  \n"
     ]
    }
   ],
   "source": [
    "# Removal of all whitespaces and digits and assigning it to a new column called 'month'\n",
    "df_new['month'] = df_new['date'].str.replace('[\\d]','').str.strip()\n",
    "\n",
    "#Check if the new month contains all the different month\n",
    "print(df_new['month'].unique())\n"
   ]
  },
  {
   "cell_type": "markdown",
   "metadata": {},
   "source": [
    "Now from this it is clear that all digits and white spaces were removed leaving only the month spelling.\n",
    "\n",
    "### So now we can move on to look at how many months are spelled wrongly"
   ]
  },
  {
   "cell_type": "code",
   "execution_count": 12,
   "metadata": {},
   "outputs": [
    {
     "name": "stdout",
     "output_type": "stream",
     "text": [
      "May          2184\n",
      "April        2036\n",
      "July         2020\n",
      "June         1964\n",
      "August       1747\n",
      "October      1715\n",
      "March        1708\n",
      "September    1579\n",
      "December     1316\n",
      "November     1289\n",
      "February      999\n",
      "January       910\n",
      "Feburary      126\n",
      "ay              7\n",
      "Jue             4\n",
      "Jun             4\n",
      "Novemer         4\n",
      "My              4\n",
      "Ma              4\n",
      "une             3\n",
      "Dcember         3\n",
      "Novembr         3\n",
      "Jul             3\n",
      "ovember         3\n",
      "Augut           3\n",
      "Augus           3\n",
      "ugust           3\n",
      "pril            3\n",
      "Jauary          2\n",
      "Aprl            2\n",
      "Jne             2\n",
      "ecember         2\n",
      "Janury          2\n",
      "Apri            2\n",
      "uly             2\n",
      "Juy             2\n",
      "Januar          1\n",
      "Decembr         1\n",
      "Noember         1\n",
      "Febuary         1\n",
      "Octobr          1\n",
      "Marh            1\n",
      "Augst           1\n",
      "Jnuary          1\n",
      "Octobe          1\n",
      "Deceber         1\n",
      "Marc            1\n",
      "Septemer        1\n",
      "Sptember        1\n",
      "Jly             1\n",
      "eptember        1\n",
      "Auust           1\n",
      "arch            1\n",
      "Apil            1\n",
      "Setember        1\n",
      "Decmber         1\n",
      "ebruary         1\n",
      "Sepember        1\n",
      "Septeber        1\n",
      "Mrch            1\n",
      "Feruary         1\n",
      "Name: month, dtype: int64\n"
     ]
    }
   ],
   "source": [
    "#look at how many mispelled months in the column\n",
    "with pd.option_context('display.max_rows', None, 'display.max_columns', None):\n",
    "    print(df_new['month'].value_counts())"
   ]
  },
  {
   "cell_type": "markdown",
   "metadata": {},
   "source": [
    "From the information above it can be seen that there are around 200 months entries mispelled while majority of the months are spelled correctly. \n",
    "\n",
    "###  A total of around 200 mispelled months entries seems quite alot, lets try to savage the mispelled word using textblob to help try correct the the mispelled words"
   ]
  },
  {
   "cell_type": "code",
   "execution_count": 13,
   "metadata": {},
   "outputs": [
    {
     "name": "stdout",
     "output_type": "stream",
     "text": [
      "May          2184\n",
      "April        2036\n",
      "July         2020\n",
      "June         1964\n",
      "August       1750\n",
      "October      1717\n",
      "March        1708\n",
      "September    1582\n",
      "December     1318\n",
      "November     1296\n",
      "February     1127\n",
      "January       914\n",
      "ay              7\n",
      "Member          5\n",
      "A               4\n",
      "By              4\n",
      "Due             4\n",
      "Run             4\n",
      "april           3\n",
      "une             3\n",
      "november        3\n",
      "august          3\n",
      "Ought           3\n",
      "But             3\n",
      "december        2\n",
      "Remember        2\n",
      "Peri            2\n",
      "july            2\n",
      "Girl            2\n",
      "One             2\n",
      "Buy             2\n",
      "Must            2\n",
      "Angry           2\n",
      "arch            1\n",
      "Are             1\n",
      "Arc             1\n",
      "Soil            1\n",
      "september       1\n",
      "february        1\n",
      "Fly             1\n",
      "Arch            1\n",
      "Name: month, dtype: int64\n"
     ]
    }
   ],
   "source": [
    "az = df_new.month.apply(lambda txt: ''.join(textblob.TextBlob(txt).correct()))\n",
    "\n",
    "#check now to see how much did the spelling corrector help to improve the spelling \n",
    "with pd.option_context('display.max_rows', None, 'display.max_columns', None):\n",
    "    print(az.value_counts())"
   ]
  },
  {
   "cell_type": "markdown",
   "metadata": {},
   "source": [
    "From the result above it can be seen that majority of the spelling are corrected however it was noted that there were some months that spelt correctly but is not capitalized in front hence resutling it to be seperated from the rest.\n",
    "\n",
    "#### Therefore to treat this issue lets capitalise all the first word and see how it goes:"
   ]
  },
  {
   "cell_type": "code",
   "execution_count": 14,
   "metadata": {},
   "outputs": [
    {
     "name": "stdout",
     "output_type": "stream",
     "text": [
      "May          2184\n",
      "April        2039\n",
      "July         2022\n",
      "June         1964\n",
      "August       1753\n",
      "October      1717\n",
      "March        1708\n",
      "September    1583\n",
      "December     1320\n",
      "November     1299\n",
      "February     1128\n",
      "January       914\n",
      "Ay              7\n",
      "Member          5\n",
      "A               4\n",
      "By              4\n",
      "Due             4\n",
      "Run             4\n",
      "But             3\n",
      "Ought           3\n",
      "Une             3\n",
      "Must            2\n",
      "Arch            2\n",
      "Angry           2\n",
      "Buy             2\n",
      "Remember        2\n",
      "One             2\n",
      "Girl            2\n",
      "Peri            2\n",
      "Fly             1\n",
      "Are             1\n",
      "Arc             1\n",
      "Soil            1\n",
      "Name: month, dtype: int64\n"
     ]
    },
    {
     "name": "stderr",
     "output_type": "stream",
     "text": [
      "C:\\Users\\User\\anaconda3\\lib\\site-packages\\ipykernel_launcher.py:6: SettingWithCopyWarning: \n",
      "A value is trying to be set on a copy of a slice from a DataFrame.\n",
      "Try using .loc[row_indexer,col_indexer] = value instead\n",
      "\n",
      "See the caveats in the documentation: https://pandas.pydata.org/pandas-docs/stable/user_guide/indexing.html#returning-a-view-versus-a-copy\n",
      "  \n"
     ]
    }
   ],
   "source": [
    "az = az.str.capitalize()\n",
    "with pd.option_context('display.max_rows', None, 'display.max_columns', None):\n",
    "    print(az.value_counts())\n",
    "\n",
    "#lets assign this new data to replace the older data from the 'month' column\n",
    "df_new['month']= az"
   ]
  },
  {
   "cell_type": "markdown",
   "metadata": {},
   "source": [
    "From this results it can be seen that those month spelled correctly are now correctly placed together with other months and the number of mispelled word dropped from close to 200 to around 50.\n",
    "\n",
    "### Now lets move on to remove those rows with mispelled months in the dataframe"
   ]
  },
  {
   "cell_type": "code",
   "execution_count": 15,
   "metadata": {},
   "outputs": [
    {
     "data": {
      "text/plain": [
       "array(['October', 'December', 'February', 'May', 'June', 'January',\n",
       "       'April', 'March', 'July', 'November', 'September', 'August'],\n",
       "      dtype=object)"
      ]
     },
     "execution_count": 15,
     "metadata": {},
     "output_type": "execute_result"
    }
   ],
   "source": [
    "list_of_date = ['May','April','July','June','August','October','March','September','December','November','February','January']\n",
    "df_new = df_new[df_new['month'].isin(list_of_date)]\n",
    "\n",
    "#check that month columns only contain the rightly spelled months\n",
    "df_new.month.unique()"
   ]
  },
  {
   "cell_type": "markdown",
   "metadata": {},
   "source": [
    "From the results we can see that the new dataframe now contains only rows with the rightly spelled months\n",
    "\n",
    "### Next we will be looking to add the day and year back into the month but first we will need to extract the year and day then join it with the month and then place it into a new column"
   ]
  },
  {
   "cell_type": "code",
   "execution_count": 16,
   "metadata": {},
   "outputs": [
    {
     "data": {
      "text/plain": [
       "0     13 October 2014\n",
       "1    09 December 2014\n",
       "2    25 February 2015\n",
       "3    09 December 2014\n",
       "4    18 February 2015\n",
       "Name: month_year, dtype: object"
      ]
     },
     "execution_count": 16,
     "metadata": {},
     "output_type": "execute_result"
    }
   ],
   "source": [
    "#extracting the year from the date column and placing it into a new column called 'year'\n",
    "\n",
    "df_new['year'] = df_new.date.apply(lambda txt: ''.join(txt[-4:]))\n",
    "\n",
    "#extracting the day from the date column and placing into a new column called 'day'\n",
    "df_new['day'] = df_new.date.apply(lambda txt: ''.join(txt[:2]))\n",
    "\n",
    "# joining the day month and year string togther and placing it into a new column called 'month_year'\n",
    "df_new['month_year'] = df_new[['day','month','year']].apply(lambda x : ' '.join(x),axis=1)\n",
    "\n",
    "#check if month_year had got all details of day,month and year \n",
    "df_new['month_year'].head()\n",
    "\n"
   ]
  },
  {
   "cell_type": "markdown",
   "metadata": {},
   "source": [
    "From the result above it can be seen that month_year columns now contains all the necessary data to be converted to datetime datatype\n",
    "\n",
    "### Now lets convert columns of 'day','month','year' and 'month_year' to get their respective values "
   ]
  },
  {
   "cell_type": "code",
   "execution_count": 17,
   "metadata": {},
   "outputs": [
    {
     "name": "stdout",
     "output_type": "stream",
     "text": [
      "<class 'pandas.core.frame.DataFrame'>\n",
      "Int64Index: 19631 entries, 0 to 19687\n",
      "Data columns (total 22 columns):\n",
      " #   Column            Non-Null Count  Dtype         \n",
      "---  ------            --------------  -----         \n",
      " 0   id                19631 non-null  float64       \n",
      " 1   date              19631 non-null  object        \n",
      " 2   price             19631 non-null  float64       \n",
      " 3   bedrooms          19631 non-null  float64       \n",
      " 4   bathrooms         19631 non-null  int64         \n",
      " 5   floors            19631 non-null  float64       \n",
      " 6   waterfront        19631 non-null  float64       \n",
      " 7   view              19631 non-null  float64       \n",
      " 8   condition         19631 non-null  object        \n",
      " 9   review_score      19631 non-null  float64       \n",
      " 10  basement_size     19631 non-null  float64       \n",
      " 11  built             19631 non-null  float64       \n",
      " 12  renovation        19631 non-null  float64       \n",
      " 13  zipcode           19631 non-null  float64       \n",
      " 14  latitude          19631 non-null  float64       \n",
      " 15  longitude         19631 non-null  float64       \n",
      " 16  living_room_size  19631 non-null  float64       \n",
      " 17  lot_size          19631 non-null  float64       \n",
      " 18  month             19631 non-null  int64         \n",
      " 19  year              19631 non-null  int64         \n",
      " 20  day               19631 non-null  int64         \n",
      " 21  month_year        19631 non-null  datetime64[ns]\n",
      "dtypes: datetime64[ns](1), float64(15), int64(4), object(2)\n",
      "memory usage: 3.4+ MB\n"
     ]
    }
   ],
   "source": [
    "#converting columns of 'day','month','year' and 'month_year' to get datetime \n",
    "\n",
    "df_new['month_year']=pd.to_datetime(df_new['month_year'],format='%d %B %Y')\n",
    "df_new['month']=pd.to_datetime(df_new['month'],format='%B').dt.month\n",
    "df_new['day']=pd.to_datetime(df_new['day'],format='%d').dt.day\n",
    "df_new['year']=pd.to_datetime(df_new['year'],format='%Y').dt.year\n",
    "\n",
    "# check if month_year became datetime series and month,day and year becomes interg\n",
    "df_new.info()"
   ]
  },
  {
   "cell_type": "markdown",
   "metadata": {},
   "source": [
    "So from the results it can be seen all the changes was successfully"
   ]
  },
  {
   "cell_type": "markdown",
   "metadata": {},
   "source": [
    "# Exploring and cleaning up 'condition' column"
   ]
  },
  {
   "cell_type": "code",
   "execution_count": 18,
   "metadata": {},
   "outputs": [
    {
     "data": {
      "text/plain": [
       "fair         11755\n",
       "good          4729\n",
       "excellent     1392\n",
       "FAIR           994\n",
       "GOOD           437\n",
       "poor           140\n",
       "EXCELLENT      139\n",
       "terrible        29\n",
       "POOR            14\n",
       "TERRIBLE         2\n",
       "Name: condition, dtype: int64"
      ]
     },
     "execution_count": 18,
     "metadata": {},
     "output_type": "execute_result"
    }
   ],
   "source": [
    "#check all the unique values in the condition tab\n",
    "df_new.condition.value_counts()"
   ]
  },
  {
   "cell_type": "markdown",
   "metadata": {},
   "source": [
    "From the results it seems like smiliar rating are seperated due to capital letter and small letter e.g fair and FAIR)\n",
    "\n",
    "### So now lets covert all strings to lower case so all same rating will be counted as the same"
   ]
  },
  {
   "cell_type": "code",
   "execution_count": 19,
   "metadata": {},
   "outputs": [
    {
     "data": {
      "text/plain": [
       "fair         12749\n",
       "good          5166\n",
       "excellent     1531\n",
       "poor           154\n",
       "terrible        31\n",
       "Name: condition, dtype: int64"
      ]
     },
     "execution_count": 19,
     "metadata": {},
     "output_type": "execute_result"
    }
   ],
   "source": [
    "#convert all strings in condtion column to lower case \n",
    "df_new['condition']=df_new.condition.apply(lambda x : x.lower())\n",
    "#check if all words are changed to lower case and if all same word are counted as the same \n",
    "df_new.condition.value_counts()\n"
   ]
  },
  {
   "cell_type": "markdown",
   "metadata": {},
   "source": [
    "From the results it can be seen that all words are in lower case and same words are counted as same.\n",
    "\n",
    "### Now lets convert 'condition' values into numerical value so that it can be checked for correlation "
   ]
  },
  {
   "cell_type": "code",
   "execution_count": 20,
   "metadata": {},
   "outputs": [
    {
     "name": "stdout",
     "output_type": "stream",
     "text": [
      "['excellent' 'fair' 'good' 'poor' 'terrible']\n"
     ]
    },
    {
     "data": {
      "text/plain": [
       "0    1\n",
       "1    1\n",
       "2    1\n",
       "3    0\n",
       "4    1\n",
       "5    1\n",
       "6    1\n",
       "7    1\n",
       "8    1\n",
       "9    1\n",
       "Name: condition, dtype: int32"
      ]
     },
     "execution_count": 20,
     "metadata": {},
     "output_type": "execute_result"
    }
   ],
   "source": [
    "# change it to datatype of 'condition' column to categorical \n",
    "#changing condition to caterogical factor so that it will sort the string in correct order \n",
    "\n",
    "df_new['condition']=pd.Categorical(df_new['condition'],categories=['excellent','good','fair','poor','terrible'],ordered=True)\n",
    "\n",
    "#encode catergorcial condition column\n",
    "lencoder = LabelEncoder()\n",
    "df_new['condition'] = lencoder.fit_transform(df_new['condition'])\n",
    "\n",
    "#check for what classes are used to encode \n",
    "print(lencoder.classes_)\n",
    "#check if the encoding works and is placed in dataframe\n",
    "df_new.condition.head(10)"
   ]
  },
  {
   "cell_type": "markdown",
   "metadata": {},
   "source": [
    "From the results above it is clear that the we had successfully encode the 'condition' string values to numerical values"
   ]
  },
  {
   "cell_type": "markdown",
   "metadata": {},
   "source": [
    "# Doing EDA of the clean up data by using pearson correlation "
   ]
  },
  {
   "cell_type": "code",
   "execution_count": 21,
   "metadata": {},
   "outputs": [
    {
     "data": {
      "image/png": "[encoded data removed]",
      "text/plain": [
       "<Figure size 1080x720 with 2 Axes>"
      ]
     },
     "metadata": {
      "needs_background": "light"
     },
     "output_type": "display_data"
    }
   ],
   "source": [
    "import seaborn as sns\n",
    "\n",
    "#ploting a heat map to see the correlaton between all features \n",
    "correlation = df_new.corr()\n",
    "plt.figure(figsize=(15,10))\n",
    "sns.heatmap(correlation, annot=True, cmap=plt.cm.Reds)\n",
    "plt.show()\n"
   ]
  },
  {
   "cell_type": "code",
   "execution_count": 22,
   "metadata": {},
   "outputs": [
    {
     "data": {
      "text/plain": [
       "price               1.000000\n",
       "bathrooms           0.520507\n",
       "living_room_size    0.582352\n",
       "Name: price, dtype: float64"
      ]
     },
     "execution_count": 22,
     "metadata": {},
     "output_type": "execute_result"
    }
   ],
   "source": [
    "#Correlation with output variable\n",
    "cor_target = abs(correlation[\"price\"])\n",
    "#Selecting highly correlated features\n",
    "relevant_features = cor_target[cor_target>0.5]\n",
    "relevant_features"
   ]
  },
  {
   "cell_type": "markdown",
   "metadata": {},
   "source": [
    "From the results we can see that out of all the features only no. of bathrooms and living room size is highly  correlated to price but we also need to make sure that bathrooms and livingroom size is not highly correlated to one another hence we will have to visually check"
   ]
  },
  {
   "cell_type": "code",
   "execution_count": 23,
   "metadata": {},
   "outputs": [
    {
     "name": "stdout",
     "output_type": "stream",
     "text": [
      "                  bathrooms  living_room_size\n",
      "bathrooms          1.000000          0.495581\n",
      "living_room_size   0.495581          1.000000\n"
     ]
    }
   ],
   "source": [
    "#checking if bathroom and living room size are correlated if so then can just keep on factor\n",
    "\n",
    "print(df_new[['bathrooms','living_room_size']].corr())\n"
   ]
  },
  {
   "cell_type": "markdown",
   "metadata": {},
   "source": [
    "From results it can be seen that bathrooms and living_room_size are both quite corelated hence can either choose one feature.\n",
    "\n",
    "However this is just a filtering method and might not be the best way to get the best accuracy for model in machine learning hence we will next use a few other methods to see how many features are best to get the best accuracy "
   ]
  },
  {
   "cell_type": "markdown",
   "metadata": {},
   "source": [
    "# Usage of LassoCV and RFE method(linear) and Random Forest Regressor(able to address non-linearily) to look for top features with best accuracy for machine learning"
   ]
  },
  {
   "cell_type": "markdown",
   "metadata": {},
   "source": [
    "### First lets look at all the datatypes of the cleaned data "
   ]
  },
  {
   "cell_type": "code",
   "execution_count": 24,
   "metadata": {},
   "outputs": [
    {
     "name": "stdout",
     "output_type": "stream",
     "text": [
      "<class 'pandas.core.frame.DataFrame'>\n",
      "Int64Index: 19631 entries, 0 to 19687\n",
      "Data columns (total 22 columns):\n",
      " #   Column            Non-Null Count  Dtype         \n",
      "---  ------            --------------  -----         \n",
      " 0   id                19631 non-null  float64       \n",
      " 1   date              19631 non-null  object        \n",
      " 2   price             19631 non-null  float64       \n",
      " 3   bedrooms          19631 non-null  float64       \n",
      " 4   bathrooms         19631 non-null  int64         \n",
      " 5   floors            19631 non-null  float64       \n",
      " 6   waterfront        19631 non-null  float64       \n",
      " 7   view              19631 non-null  float64       \n",
      " 8   condition         19631 non-null  int32         \n",
      " 9   review_score      19631 non-null  float64       \n",
      " 10  basement_size     19631 non-null  float64       \n",
      " 11  built             19631 non-null  float64       \n",
      " 12  renovation        19631 non-null  float64       \n",
      " 13  zipcode           19631 non-null  float64       \n",
      " 14  latitude          19631 non-null  float64       \n",
      " 15  longitude         19631 non-null  float64       \n",
      " 16  living_room_size  19631 non-null  float64       \n",
      " 17  lot_size          19631 non-null  float64       \n",
      " 18  month             19631 non-null  int64         \n",
      " 19  year              19631 non-null  int64         \n",
      " 20  day               19631 non-null  int64         \n",
      " 21  month_year        19631 non-null  datetime64[ns]\n",
      "dtypes: datetime64[ns](1), float64(15), int32(1), int64(4), object(1)\n",
      "memory usage: 3.4+ MB\n",
      "None \n",
      "\n"
     ]
    }
   ],
   "source": [
    "print(df_new.info(),'\\n')"
   ]
  },
  {
   "cell_type": "markdown",
   "metadata": {},
   "source": [
    "From the above information it seems like  'date' and 'month_year' column is not needed since it is still an object and date_time series which could not be processed using machine learning algorithms therefore we will remove it.\n",
    "\n",
    "### Let go with the droping of these columns now "
   ]
  },
  {
   "cell_type": "code",
   "execution_count": 25,
   "metadata": {},
   "outputs": [
    {
     "name": "stdout",
     "output_type": "stream",
     "text": [
      "df_new after dropping date\n",
      "\n",
      "<class 'pandas.core.frame.DataFrame'>\n",
      "Int64Index: 19631 entries, 0 to 19687\n",
      "Data columns (total 20 columns):\n",
      " #   Column            Non-Null Count  Dtype  \n",
      "---  ------            --------------  -----  \n",
      " 0   id                19631 non-null  float64\n",
      " 1   price             19631 non-null  float64\n",
      " 2   bedrooms          19631 non-null  float64\n",
      " 3   bathrooms         19631 non-null  int64  \n",
      " 4   floors            19631 non-null  float64\n",
      " 5   waterfront        19631 non-null  float64\n",
      " 6   view              19631 non-null  float64\n",
      " 7   condition         19631 non-null  int32  \n",
      " 8   review_score      19631 non-null  float64\n",
      " 9   basement_size     19631 non-null  float64\n",
      " 10  built             19631 non-null  float64\n",
      " 11  renovation        19631 non-null  float64\n",
      " 12  zipcode           19631 non-null  float64\n",
      " 13  latitude          19631 non-null  float64\n",
      " 14  longitude         19631 non-null  float64\n",
      " 15  living_room_size  19631 non-null  float64\n",
      " 16  lot_size          19631 non-null  float64\n",
      " 17  month             19631 non-null  int64  \n",
      " 18  year              19631 non-null  int64  \n",
      " 19  day               19631 non-null  int64  \n",
      "dtypes: float64(15), int32(1), int64(4)\n",
      "memory usage: 3.1 MB\n",
      "None\n"
     ]
    }
   ],
   "source": [
    "df_new.drop(['date','month_year'],axis=1,inplace=True)\n",
    "print('df_new after dropping date\\n')\n",
    "print(df_new.info())\n"
   ]
  },
  {
   "cell_type": "markdown",
   "metadata": {},
   "source": [
    "Now from the information it is clear that all of the unwanted columns are dropped \n",
    "\n",
    "### Now we can move on to scaling the features data values for standardisation purposes before moving on to trying out prototype model "
   ]
  },
  {
   "cell_type": "code",
   "execution_count": 26,
   "metadata": {},
   "outputs": [],
   "source": [
    "\n",
    "from sklearn.preprocessing import StandardScaler \n",
    "#defining X and y \n",
    "y=df_new['price']\n",
    "X= df_new.drop('price',axis=1)\n",
    "#scaling the X data \n",
    "scaler = StandardScaler()\n",
    "scaled_X= scaler.fit_transform(X.values)"
   ]
  },
  {
   "cell_type": "markdown",
   "metadata": {},
   "source": [
    "Now that all the features data values are scaled we can now look at the various method and model to search for top features that is suitable for machine learning "
   ]
  },
  {
   "cell_type": "markdown",
   "metadata": {},
   "source": [
    "# LassoCV Method "
   ]
  },
  {
   "cell_type": "code",
   "execution_count": 27,
   "metadata": {},
   "outputs": [
    {
     "name": "stdout",
     "output_type": "stream",
     "text": [
      "Root Mean Squared Error is : 232047.6470482954\n",
      "Best score/r2 using built in LassoCV 0.594799\n",
      "Lasso picked 19 variables and removed 0 variables\n"
     ]
    },
    {
     "data": {
      "text/plain": [
       "Text(0.5, 1.0, 'Feature importance using Lasso Model')"
      ]
     },
     "execution_count": 27,
     "metadata": {},
     "output_type": "execute_result"
    },
    {
     "data": {
      "image/png": "[encoded data removed]",
      "text/plain": [
       "<Figure size 576x720 with 1 Axes>"
      ]
     },
     "metadata": {
      "needs_background": "light"
     },
     "output_type": "display_data"
    }
   ],
   "source": [
    "from sklearn.linear_model import LassoCV\n",
    "from sklearn.model_selection import train_test_split\n",
    "X_train0,X_test0,y_train0,y_test0 = train_test_split(scaled_X,y,test_size=0.2,random_state=42)\n",
    "lasz = LassoCV()\n",
    "lasz.fit(X_train0,y_train0)\n",
    "y_pred0=lasz.predict(X_test0)\n",
    "coef = pd.Series(lasz.coef_ , index=X.columns )\n",
    "rsme0 = np.sqrt(mean_squared_error(y_test0,y_pred0))\n",
    "print('Root Mean Squared Error is :', rsme0)\n",
    "print(\"Best score/r2 using built in LassoCV %f\" %lasz.score(scaled_X,y))\n",
    "print(\"Lasso picked \" + str(sum(coef !=0)) + ' variables and removed ' + str(sum(coef == 0))+ ' variables')\n",
    "\n",
    "\n",
    "# to get sort important features\n",
    "import matplotlib \n",
    "\n",
    "impt_feature = coef.sort_values()\n",
    "matplotlib.rcParams['figure.figsize'] = (8.0, 10.0)\n",
    "impt_feature.plot(kind = \"barh\")\n",
    "plt.title(\"Feature importance using Lasso Model\")\n"
   ]
  },
  {
   "cell_type": "markdown",
   "metadata": {},
   "source": [
    "From this it can be seen that LassoCV chose to keep all the feature to get a good accuracy. But from this it can be seen that id,lot_size,month,review_score,condition and day is the least infulencial features on the model. With living room and bathrooms the most infulencial and that is similar to our pearson correlation result on the most important factor. But the R2 is quite low around 0.59 and RSME of 232047.6."
   ]
  },
  {
   "cell_type": "markdown",
   "metadata": {},
   "source": [
    "# RFE Method "
   ]
  },
  {
   "cell_type": "code",
   "execution_count": 28,
   "metadata": {},
   "outputs": [
    {
     "name": "stdout",
     "output_type": "stream",
     "text": [
      "Optimal number of features: 12\n",
      "score/r2 with 12 features: 0.597355\n"
     ]
    }
   ],
   "source": [
    "from sklearn.feature_selection import RFE\n",
    "from sklearn.linear_model import LinearRegression\n",
    "# define number of features \n",
    "\n",
    "n_features = np.arange(1,19)\n",
    "best_score = 0 \n",
    "# To store best features \n",
    "best_number_features = 0\n",
    "score_list = []\n",
    "#using a loop to loop through all number of features from 1 features all the way to 19 features \n",
    "for i in range (len(n_features)):\n",
    "    modelz = LinearRegression()\n",
    "    rfe =RFE(estimator=modelz,n_features_to_select = n_features[i])\n",
    "    X_train,X_test,y_train,y_test = train_test_split(scaled_X,y,test_size=0.2,random_state=42)\n",
    "    rfe.fit(X_train,y_train)\n",
    "    X_train_rfe= rfe.fit_transform(X_train,y_train)\n",
    "    X_test_rfe = rfe.transform(X_test)\n",
    "    modelz.fit(X_train_rfe,y_train)\n",
    "    score = modelz.score(X_test_rfe,y_test)\n",
    "    score_list.append(score)\n",
    "    if score > best_score:\n",
    "        best_score=score\n",
    "        best_number_features=n_features[i]\n",
    "print('Optimal number of features: %d' %best_number_features)\n",
    "print('score/r2 with %d features: %f' %(best_number_features,best_score))\n",
    "        "
   ]
  },
  {
   "cell_type": "markdown",
   "metadata": {},
   "source": [
    "Since the opitmal number of features is 12 as indicated by RFE \n",
    "\n",
    "Lets see how is the what are the 12 features selected and also the Root Mean Square Error vlaue "
   ]
  },
  {
   "cell_type": "code",
   "execution_count": 29,
   "metadata": {},
   "outputs": [
    {
     "name": "stdout",
     "output_type": "stream",
     "text": [
      "Root Mean Squared Error is : 231911.38151768033\n",
      "Index(['bathrooms', 'floors', 'waterfront', 'view', 'basement_size', 'built',\n",
      "       'renovation', 'zipcode', 'latitude', 'longitude', 'living_room_size',\n",
      "       'year'],\n",
      "      dtype='object')\n"
     ]
    }
   ],
   "source": [
    "\n",
    "cols=list(X.columns)\n",
    "model = LinearRegression()\n",
    "rfe =RFE(model,12)\n",
    "\n",
    "#Tranforming the data using RFE\n",
    "\n",
    "# X_rfe = rfe.fit_transform(scaled_X,y)\n",
    "X_train_rfe= rfe.fit_transform(X_train,y_train)\n",
    "X_test_rfe = rfe.transform(X_test)\n",
    "     \n",
    "#fitting model to transformed data\n",
    "model.fit(X_train_rfe,y_train)\n",
    "y_pred = model.predict(X_test_rfe)\n",
    "rsme = np.sqrt(mean_squared_error(y_test,y_pred))\n",
    "holder = pd.Series(rfe.support_,index=cols)\n",
    "selected_features = holder[holder == True].index\n",
    "print('Root Mean Squared Error is :', rsme)\n",
    "print(selected_features)"
   ]
  },
  {
   "cell_type": "markdown",
   "metadata": {},
   "source": [
    "Similar to LassoCV the features that are not really influential for LinearReggression which were also  id,lot_size,month,review_score,condition and day were not part of the feature selected using RFE. It was also noted that LinearRegression model with the most optimal number of features had a R2 of 0.597 and RSME of 231991.4 which were very close to LassoCV model which uses all 19 features.\n",
    "\n",
    "This low R2 produced by both linear models showed that linear model does not really do so well for this dataset hence suggesting possilbity of non-linearity. \n",
    "\n",
    "### Lets Move on to looking at models that could address non-linear dataset or pattern "
   ]
  },
  {
   "cell_type": "markdown",
   "metadata": {},
   "source": [
    "# Random Forest Regressor ( able to address non-linearity)"
   ]
  },
  {
   "cell_type": "code",
   "execution_count": 30,
   "metadata": {},
   "outputs": [
    {
     "name": "stdout",
     "output_type": "stream",
     "text": [
      "Root Mean Squared Error is : 155714.8839426359\n",
      "Score using RandomForestRegressor with all 19 features is 0.818474\n"
     ]
    }
   ],
   "source": [
    "from sklearn.ensemble import RandomForestRegressor\n",
    "\n",
    "model_1 = RandomForestRegressor()\n",
    "model_1.fit(X_train,y_train)\n",
    "model_1.predict(X_test)\n",
    "y_pred_1 = model_1.predict(X_test)\n",
    "rsme1_0 = np.sqrt(mean_squared_error(y_test,y_pred_1))\n",
    "print('Root Mean Squared Error is :', rsme1_0)\n",
    "print(\"Score using RandomForestRegressor with all 19 features is %f\" %model_1.score(X_test,y_test))"
   ]
  },
  {
   "cell_type": "code",
   "execution_count": 31,
   "metadata": {
    "scrolled": true
   },
   "outputs": [
    {
     "data": {
      "text/plain": [
       "([<matplotlib.axis.YTick at 0x28ee6f07d08>,\n",
       "  <matplotlib.axis.YTick at 0x28ee6f07408>,\n",
       "  <matplotlib.axis.YTick at 0x28ee84190c8>,\n",
       "  <matplotlib.axis.YTick at 0x28ee71b7948>,\n",
       "  <matplotlib.axis.YTick at 0x28ee74bf448>,\n",
       "  <matplotlib.axis.YTick at 0x28ee74bf908>,\n",
       "  <matplotlib.axis.YTick at 0x28ee7405888>,\n",
       "  <matplotlib.axis.YTick at 0x28ee74bf848>,\n",
       "  <matplotlib.axis.YTick at 0x28ee73f1d88>,\n",
       "  <matplotlib.axis.YTick at 0x28ee73f1248>,\n",
       "  <matplotlib.axis.YTick at 0x28ee74acc48>,\n",
       "  <matplotlib.axis.YTick at 0x28ee74ab4c8>,\n",
       "  <matplotlib.axis.YTick at 0x28ee73fc548>,\n",
       "  <matplotlib.axis.YTick at 0x28ee74a8948>,\n",
       "  <matplotlib.axis.YTick at 0x28ee74a8ac8>,\n",
       "  <matplotlib.axis.YTick at 0x28ee749ce08>,\n",
       "  <matplotlib.axis.YTick at 0x28ee74abd08>,\n",
       "  <matplotlib.axis.YTick at 0x28ee74ac748>,\n",
       "  <matplotlib.axis.YTick at 0x28ee7424908>],\n",
       " <a list of 19 Text yticklabel objects>)"
      ]
     },
     "execution_count": 31,
     "metadata": {},
     "output_type": "execute_result"
    },
    {
     "data": {
      "image/png": "[encoded data removed]",
      "text/plain": [
       "<Figure size 576x720 with 1 Axes>"
      ]
     },
     "metadata": {
      "needs_background": "light"
     },
     "output_type": "display_data"
    }
   ],
   "source": [
    "features = X.columns\n",
    "importances = model_1.feature_importances_\n",
    "indices = np.argsort(importances)\n",
    "\n",
    "plt.title('Feature Importances')\n",
    "plt.barh(range(len(indices)), importances[indices], color='b', align='center')\n",
    "plt.yticks(range(len(indices)), [features[i] for i in indices])"
   ]
  },
  {
   "cell_type": "markdown",
   "metadata": {},
   "source": [
    "So from this results it can be seen that there is indeed some non-linearity since Random Forest Regressor is able to produce a much better accuracy of 0.82 and a relatively lower RSME of 154221 as compared to the linear models.\n",
    "\n",
    "Looking at the importance graph, it can be seen that there are quite alot of features that do not infulence the model much hence as it is best to always have a simipler model with lesser feature we will go ahead and remove these non-influential features. \n",
    "\n",
    "### Lets try to just take the top 6 features and see if the model is still good to go "
   ]
  },
  {
   "cell_type": "code",
   "execution_count": 32,
   "metadata": {},
   "outputs": [
    {
     "name": "stdout",
     "output_type": "stream",
     "text": [
      "Root Mean Squared Error is : 162181.6657274022\n",
      "Score using new RandomForestRegressor with top 6 features is 0.803084\n"
     ]
    }
   ],
   "source": [
    "# now try to remove the 13 least important factors,leaving the top 6 features\n",
    "X_RFR = X[['living_room_size','latitude','bathrooms','longitude','lot_size','waterfront']]\n",
    "X_RFR_scaled = scaler.fit_transform(X_RFR.values)\n",
    "X_train1,X_test1,y_train1,y_test1 = train_test_split(X_RFR_scaled,y,test_size=0.2,random_state=42)\n",
    "model_2 = RandomForestRegressor()\n",
    "model_2.fit(X_train1,y_train1)\n",
    "y_pred1 = model_2.predict(X_test1)\n",
    "rsme1 = np.sqrt(mean_squared_error(y_test,y_pred1))\n",
    "print('Root Mean Squared Error is :', rsme1)\n",
    "print(\"Score using new RandomForestRegressor with top 6 features is %f\" %model_2.score(X_test1,y_test1))"
   ]
  },
  {
   "cell_type": "markdown",
   "metadata": {},
   "source": [
    "From the results of the Random Forest Regressor using the top 6 features showed that the accuracy only dropped slightly and also a slight increase in RSME hence showing that the top 6 feature could represent the price well. Hence we will go with it  "
   ]
  },
  {
   "cell_type": "markdown",
   "metadata": {},
   "source": [
    "# Conclusion "
   ]
  },
  {
   "cell_type": "markdown",
   "metadata": {},
   "source": [
    "Therefore from the results obtained using LassoCV and RFE we can see that a total of 12- 19 features are needed to get the best accuracy from a linear machine learning model while using filtering method it was clear that number of bathrooms and living room size were the most correlated to price of the house. The high correlation of the bathrooms and living room size were also shown in the LassoCV plot. Therefore to get a good sense of what is correlates well with price a simple filtering is good enough but to get the best number of feature for a good machine learning prediction other method like LassoCV and RFE would have to be used.\n",
    "\n",
    "Overall it seems that the usage of RandomForestRegressor seems to provide the highest accuracy of 0.81 and lower RSME of 160584.7 as compared to linearRegressor with around 0.60 at best with RSME of 231911.3. This shows that data has some non-linearity which could not be addressed by a simple linearRegressor but a RandomForestRegresssor is able to. Therefore RandomForestRegressor along with the top 6 features will be used for machine learning."
   ]
  },
  {
   "cell_type": "code",
   "execution_count": null,
   "metadata": {},
   "outputs": [],
   "source": []
  }
 ],
 "metadata": {
  "kernelspec": {
   "display_name": "Python 3",
   "language": "python",
   "name": "python3"
  },
  "language_info": {
   "codemirror_mode": {
    "name": "ipython",
    "version": 3
   },
   "file_extension": ".py",
   "mimetype": "text/x-python",
   "name": "python",
   "nbconvert_exporter": "python",
   "pygments_lexer": "ipython3",
   "version": "3.7.6"
  }
 },
 "nbformat": 4,
 "nbformat_minor": 4
}
